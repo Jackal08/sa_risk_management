{
 "cells": [
  {
   "cell_type": "markdown",
   "metadata": {},
   "source": [
    "# Feature Importance"
   ]
  },
  {
   "cell_type": "code",
   "execution_count": 1,
   "metadata": {},
   "outputs": [],
   "source": [
    "import pandas as pd\n",
    "import numpy as np\n",
    "from sklearn.ensemble import RandomForestRegressor\n",
    "\n",
    "import matplotlib.pyplot as plt\n",
    "%matplotlib inline"
   ]
  },
  {
   "cell_type": "markdown",
   "metadata": {},
   "source": [
    "## Import Data"
   ]
  },
  {
   "cell_type": "code",
   "execution_count": 2,
   "metadata": {},
   "outputs": [],
   "source": [
    "data = pd.read_csv('final_data.csv', index_col=0)"
   ]
  },
  {
   "cell_type": "code",
   "execution_count": 3,
   "metadata": {},
   "outputs": [],
   "source": [
    "data.drop('current_account_balance.1', axis=1, inplace=True)"
   ]
  },
  {
   "cell_type": "code",
   "execution_count": 4,
   "metadata": {},
   "outputs": [
    {
     "data": {
      "text/html": [
       "<div>\n",
       "<style scoped>\n",
       "    .dataframe tbody tr th:only-of-type {\n",
       "        vertical-align: middle;\n",
       "    }\n",
       "\n",
       "    .dataframe tbody tr th {\n",
       "        vertical-align: top;\n",
       "    }\n",
       "\n",
       "    .dataframe thead th {\n",
       "        text-align: right;\n",
       "    }\n",
       "</style>\n",
       "<table border=\"1\" class=\"dataframe\">\n",
       "  <thead>\n",
       "    <tr style=\"text-align: right;\">\n",
       "      <th></th>\n",
       "      <th>gold</th>\n",
       "      <th>exchange_rate</th>\n",
       "      <th>share_prices</th>\n",
       "      <th>long_term_interest_rate</th>\n",
       "      <th>m3</th>\n",
       "      <th>unemployment</th>\n",
       "      <th>gdp</th>\n",
       "      <th>current_account_balance</th>\n",
       "      <th>cpi</th>\n",
       "      <th>ores_metal_imports</th>\n",
       "      <th>prime_energy</th>\n",
       "      <th>investment_gfcf</th>\n",
       "    </tr>\n",
       "  </thead>\n",
       "  <tbody>\n",
       "    <tr>\n",
       "      <th>1992</th>\n",
       "      <td>-0.059758</td>\n",
       "      <td>0.032318</td>\n",
       "      <td>0.051715</td>\n",
       "      <td>-0.111649</td>\n",
       "      <td>0.083262</td>\n",
       "      <td>-0.005682</td>\n",
       "      <td>-0.020642</td>\n",
       "      <td>0.922480</td>\n",
       "      <td>0.618688</td>\n",
       "      <td>0.067813</td>\n",
       "      <td>0.680000</td>\n",
       "      <td>0.109358</td>\n",
       "    </tr>\n",
       "    <tr>\n",
       "      <th>1993</th>\n",
       "      <td>0.159970</td>\n",
       "      <td>0.136074</td>\n",
       "      <td>0.135122</td>\n",
       "      <td>-0.188515</td>\n",
       "      <td>0.061992</td>\n",
       "      <td>0.000450</td>\n",
       "      <td>0.014399</td>\n",
       "      <td>1.000000</td>\n",
       "      <td>0.621071</td>\n",
       "      <td>0.109464</td>\n",
       "      <td>0.866667</td>\n",
       "      <td>0.329697</td>\n",
       "    </tr>\n",
       "    <tr>\n",
       "      <th>1994</th>\n",
       "      <td>-0.021083</td>\n",
       "      <td>0.083073</td>\n",
       "      <td>0.339478</td>\n",
       "      <td>0.308533</td>\n",
       "      <td>0.136966</td>\n",
       "      <td>-0.000800</td>\n",
       "      <td>0.031810</td>\n",
       "      <td>0.738137</td>\n",
       "      <td>0.636458</td>\n",
       "      <td>0.084646</td>\n",
       "      <td>0.920000</td>\n",
       "      <td>0.741888</td>\n",
       "    </tr>\n",
       "    <tr>\n",
       "      <th>1995</th>\n",
       "      <td>0.010921</td>\n",
       "      <td>0.021257</td>\n",
       "      <td>0.026136</td>\n",
       "      <td>-0.143101</td>\n",
       "      <td>0.132802</td>\n",
       "      <td>-0.168419</td>\n",
       "      <td>0.030687</td>\n",
       "      <td>0.532462</td>\n",
       "      <td>0.475443</td>\n",
       "      <td>0.489150</td>\n",
       "      <td>1.000000</td>\n",
       "      <td>0.856347</td>\n",
       "    </tr>\n",
       "    <tr>\n",
       "      <th>1996</th>\n",
       "      <td>-0.045363</td>\n",
       "      <td>0.170034</td>\n",
       "      <td>0.187810</td>\n",
       "      <td>0.106116</td>\n",
       "      <td>0.165970</td>\n",
       "      <td>0.217209</td>\n",
       "      <td>0.040257</td>\n",
       "      <td>0.593971</td>\n",
       "      <td>0.607916</td>\n",
       "      <td>0.174308</td>\n",
       "      <td>0.946667</td>\n",
       "      <td>0.777536</td>\n",
       "    </tr>\n",
       "  </tbody>\n",
       "</table>\n",
       "</div>"
      ],
      "text/plain": [
       "          gold  exchange_rate  share_prices  long_term_interest_rate  \\\n",
       "1992 -0.059758       0.032318      0.051715                -0.111649   \n",
       "1993  0.159970       0.136074      0.135122                -0.188515   \n",
       "1994 -0.021083       0.083073      0.339478                 0.308533   \n",
       "1995  0.010921       0.021257      0.026136                -0.143101   \n",
       "1996 -0.045363       0.170034      0.187810                 0.106116   \n",
       "\n",
       "            m3  unemployment       gdp  current_account_balance       cpi  \\\n",
       "1992  0.083262     -0.005682 -0.020642                 0.922480  0.618688   \n",
       "1993  0.061992      0.000450  0.014399                 1.000000  0.621071   \n",
       "1994  0.136966     -0.000800  0.031810                 0.738137  0.636458   \n",
       "1995  0.132802     -0.168419  0.030687                 0.532462  0.475443   \n",
       "1996  0.165970      0.217209  0.040257                 0.593971  0.607916   \n",
       "\n",
       "      ores_metal_imports  prime_energy  investment_gfcf  \n",
       "1992            0.067813      0.680000         0.109358  \n",
       "1993            0.109464      0.866667         0.329697  \n",
       "1994            0.084646      0.920000         0.741888  \n",
       "1995            0.489150      1.000000         0.856347  \n",
       "1996            0.174308      0.946667         0.777536  "
      ]
     },
     "execution_count": 4,
     "metadata": {},
     "output_type": "execute_result"
    }
   ],
   "source": [
    "data.head()"
   ]
  },
  {
   "cell_type": "markdown",
   "metadata": {},
   "source": [
    "## Model GDP"
   ]
  },
  {
   "cell_type": "code",
   "execution_count": 5,
   "metadata": {},
   "outputs": [],
   "source": [
    "y1 = data['gdp'].shift(1).iloc[1:]  # Lag y by 1\n",
    "X1 = data.drop('gdp', axis=1).iloc[1:, :]"
   ]
  },
  {
   "cell_type": "code",
   "execution_count": 6,
   "metadata": {},
   "outputs": [
    {
     "data": {
      "text/plain": [
       "1993   -0.020642\n",
       "1994    0.014399\n",
       "1995    0.031810\n",
       "1996    0.030687\n",
       "1997    0.040257\n",
       "Name: gdp, dtype: float64"
      ]
     },
     "execution_count": 6,
     "metadata": {},
     "output_type": "execute_result"
    }
   ],
   "source": [
    "y1.head()"
   ]
  },
  {
   "cell_type": "code",
   "execution_count": 7,
   "metadata": {},
   "outputs": [
    {
     "data": {
      "text/html": [
       "<div>\n",
       "<style scoped>\n",
       "    .dataframe tbody tr th:only-of-type {\n",
       "        vertical-align: middle;\n",
       "    }\n",
       "\n",
       "    .dataframe tbody tr th {\n",
       "        vertical-align: top;\n",
       "    }\n",
       "\n",
       "    .dataframe thead th {\n",
       "        text-align: right;\n",
       "    }\n",
       "</style>\n",
       "<table border=\"1\" class=\"dataframe\">\n",
       "  <thead>\n",
       "    <tr style=\"text-align: right;\">\n",
       "      <th></th>\n",
       "      <th>gold</th>\n",
       "      <th>exchange_rate</th>\n",
       "      <th>share_prices</th>\n",
       "      <th>long_term_interest_rate</th>\n",
       "      <th>m3</th>\n",
       "      <th>unemployment</th>\n",
       "      <th>current_account_balance</th>\n",
       "      <th>cpi</th>\n",
       "      <th>ores_metal_imports</th>\n",
       "      <th>prime_energy</th>\n",
       "      <th>investment_gfcf</th>\n",
       "    </tr>\n",
       "  </thead>\n",
       "  <tbody>\n",
       "    <tr>\n",
       "      <th>1993</th>\n",
       "      <td>0.159970</td>\n",
       "      <td>0.136074</td>\n",
       "      <td>0.135122</td>\n",
       "      <td>-0.188515</td>\n",
       "      <td>0.061992</td>\n",
       "      <td>0.000450</td>\n",
       "      <td>1.000000</td>\n",
       "      <td>0.621071</td>\n",
       "      <td>0.109464</td>\n",
       "      <td>0.866667</td>\n",
       "      <td>0.329697</td>\n",
       "    </tr>\n",
       "    <tr>\n",
       "      <th>1994</th>\n",
       "      <td>-0.021083</td>\n",
       "      <td>0.083073</td>\n",
       "      <td>0.339478</td>\n",
       "      <td>0.308533</td>\n",
       "      <td>0.136966</td>\n",
       "      <td>-0.000800</td>\n",
       "      <td>0.738137</td>\n",
       "      <td>0.636458</td>\n",
       "      <td>0.084646</td>\n",
       "      <td>0.920000</td>\n",
       "      <td>0.741888</td>\n",
       "    </tr>\n",
       "    <tr>\n",
       "      <th>1995</th>\n",
       "      <td>0.010921</td>\n",
       "      <td>0.021257</td>\n",
       "      <td>0.026136</td>\n",
       "      <td>-0.143101</td>\n",
       "      <td>0.132802</td>\n",
       "      <td>-0.168419</td>\n",
       "      <td>0.532462</td>\n",
       "      <td>0.475443</td>\n",
       "      <td>0.489150</td>\n",
       "      <td>1.000000</td>\n",
       "      <td>0.856347</td>\n",
       "    </tr>\n",
       "    <tr>\n",
       "      <th>1996</th>\n",
       "      <td>-0.045363</td>\n",
       "      <td>0.170034</td>\n",
       "      <td>0.187810</td>\n",
       "      <td>0.106116</td>\n",
       "      <td>0.165970</td>\n",
       "      <td>0.217209</td>\n",
       "      <td>0.593971</td>\n",
       "      <td>0.607916</td>\n",
       "      <td>0.174308</td>\n",
       "      <td>0.946667</td>\n",
       "      <td>0.777536</td>\n",
       "    </tr>\n",
       "    <tr>\n",
       "      <th>1997</th>\n",
       "      <td>-0.245168</td>\n",
       "      <td>0.069322</td>\n",
       "      <td>0.033999</td>\n",
       "      <td>-0.135386</td>\n",
       "      <td>0.165280</td>\n",
       "      <td>0.086614</td>\n",
       "      <td>0.551434</td>\n",
       "      <td>0.433593</td>\n",
       "      <td>0.102500</td>\n",
       "      <td>0.920000</td>\n",
       "      <td>0.624571</td>\n",
       "    </tr>\n",
       "  </tbody>\n",
       "</table>\n",
       "</div>"
      ],
      "text/plain": [
       "          gold  exchange_rate  share_prices  long_term_interest_rate  \\\n",
       "1993  0.159970       0.136074      0.135122                -0.188515   \n",
       "1994 -0.021083       0.083073      0.339478                 0.308533   \n",
       "1995  0.010921       0.021257      0.026136                -0.143101   \n",
       "1996 -0.045363       0.170034      0.187810                 0.106116   \n",
       "1997 -0.245168       0.069322      0.033999                -0.135386   \n",
       "\n",
       "            m3  unemployment  current_account_balance       cpi  \\\n",
       "1993  0.061992      0.000450                 1.000000  0.621071   \n",
       "1994  0.136966     -0.000800                 0.738137  0.636458   \n",
       "1995  0.132802     -0.168419                 0.532462  0.475443   \n",
       "1996  0.165970      0.217209                 0.593971  0.607916   \n",
       "1997  0.165280      0.086614                 0.551434  0.433593   \n",
       "\n",
       "      ores_metal_imports  prime_energy  investment_gfcf  \n",
       "1993            0.109464      0.866667         0.329697  \n",
       "1994            0.084646      0.920000         0.741888  \n",
       "1995            0.489150      1.000000         0.856347  \n",
       "1996            0.174308      0.946667         0.777536  \n",
       "1997            0.102500      0.920000         0.624571  "
      ]
     },
     "execution_count": 7,
     "metadata": {},
     "output_type": "execute_result"
    }
   ],
   "source": [
    "X1.head()"
   ]
  },
  {
   "cell_type": "markdown",
   "metadata": {},
   "source": [
    "### Fit Random Forrest"
   ]
  },
  {
   "cell_type": "code",
   "execution_count": 9,
   "metadata": {},
   "outputs": [
    {
     "data": {
      "text/plain": [
       "RandomForestRegressor(bootstrap=True, criterion='mse', max_depth=4,\n",
       "           max_features='auto', max_leaf_nodes=None,\n",
       "           min_impurity_decrease=0.0, min_impurity_split=None,\n",
       "           min_samples_leaf=1, min_samples_split=2,\n",
       "           min_weight_fraction_leaf=0.0, n_estimators=100, n_jobs=None,\n",
       "           oob_score=False, random_state=42, verbose=0, warm_start=False)"
      ]
     },
     "execution_count": 9,
     "metadata": {},
     "output_type": "execute_result"
    }
   ],
   "source": [
    "regr1 = RandomForestRegressor(max_depth=4, criterion='mse', random_state=42, n_estimators=100)\n",
    "regr1.fit(X1, y1)"
   ]
  },
  {
   "cell_type": "code",
   "execution_count": 10,
   "metadata": {},
   "outputs": [
    {
     "data": {
      "image/png": "[encoded data removed]",
      "text/plain": [
       "<Figure size 1080x360 with 1 Axes>"
      ]
     },
     "metadata": {},
     "output_type": "display_data"
    }
   ],
   "source": [
    "title = 'Feature Importance: GDP'\n",
    "figsize = (15, 5)\n",
    "\n",
    "feat_imp = pd.DataFrame({'Importance':regr1.feature_importances_})    \n",
    "feat_imp['feature'] = X1.columns\n",
    "feat_imp.sort_values(by='Importance', ascending=False, inplace=True)\n",
    "feat_imp = feat_imp\n",
    "\n",
    "feat_imp.sort_values(by='Importance', inplace=True)\n",
    "feat_imp = feat_imp.set_index('feature', drop=True)\n",
    "feat_imp.plot.barh(title=title, figsize=figsize)\n",
    "plt.xlabel('Feature Importance Score')\n",
    "plt.show()"
   ]
  },
  {
   "cell_type": "markdown",
   "metadata": {},
   "source": [
    "## Model Stock Market"
   ]
  },
  {
   "cell_type": "code",
   "execution_count": 14,
   "metadata": {},
   "outputs": [],
   "source": [
    "y2 = data['share_prices'].shift(1).iloc[1:]  # Lag y by 1\n",
    "X2 = data.drop('share_prices', axis=1).iloc[1:, :]"
   ]
  },
  {
   "cell_type": "code",
   "execution_count": 15,
   "metadata": {},
   "outputs": [
    {
     "data": {
      "text/plain": [
       "1993    0.051715\n",
       "1994    0.135122\n",
       "1995    0.339478\n",
       "1996    0.026136\n",
       "1997    0.187810\n",
       "Name: share_prices, dtype: float64"
      ]
     },
     "execution_count": 15,
     "metadata": {},
     "output_type": "execute_result"
    }
   ],
   "source": [
    "y2.head()"
   ]
  },
  {
   "cell_type": "code",
   "execution_count": 16,
   "metadata": {},
   "outputs": [
    {
     "data": {
      "text/html": [
       "<div>\n",
       "<style scoped>\n",
       "    .dataframe tbody tr th:only-of-type {\n",
       "        vertical-align: middle;\n",
       "    }\n",
       "\n",
       "    .dataframe tbody tr th {\n",
       "        vertical-align: top;\n",
       "    }\n",
       "\n",
       "    .dataframe thead th {\n",
       "        text-align: right;\n",
       "    }\n",
       "</style>\n",
       "<table border=\"1\" class=\"dataframe\">\n",
       "  <thead>\n",
       "    <tr style=\"text-align: right;\">\n",
       "      <th></th>\n",
       "      <th>gold</th>\n",
       "      <th>exchange_rate</th>\n",
       "      <th>long_term_interest_rate</th>\n",
       "      <th>m3</th>\n",
       "      <th>unemployment</th>\n",
       "      <th>gdp</th>\n",
       "      <th>current_account_balance</th>\n",
       "      <th>cpi</th>\n",
       "      <th>ores_metal_imports</th>\n",
       "      <th>prime_energy</th>\n",
       "      <th>investment_gfcf</th>\n",
       "    </tr>\n",
       "  </thead>\n",
       "  <tbody>\n",
       "    <tr>\n",
       "      <th>1993</th>\n",
       "      <td>0.159970</td>\n",
       "      <td>0.136074</td>\n",
       "      <td>-0.188515</td>\n",
       "      <td>0.061992</td>\n",
       "      <td>0.000450</td>\n",
       "      <td>0.014399</td>\n",
       "      <td>1.000000</td>\n",
       "      <td>0.621071</td>\n",
       "      <td>0.109464</td>\n",
       "      <td>0.866667</td>\n",
       "      <td>0.329697</td>\n",
       "    </tr>\n",
       "    <tr>\n",
       "      <th>1994</th>\n",
       "      <td>-0.021083</td>\n",
       "      <td>0.083073</td>\n",
       "      <td>0.308533</td>\n",
       "      <td>0.136966</td>\n",
       "      <td>-0.000800</td>\n",
       "      <td>0.031810</td>\n",
       "      <td>0.738137</td>\n",
       "      <td>0.636458</td>\n",
       "      <td>0.084646</td>\n",
       "      <td>0.920000</td>\n",
       "      <td>0.741888</td>\n",
       "    </tr>\n",
       "    <tr>\n",
       "      <th>1995</th>\n",
       "      <td>0.010921</td>\n",
       "      <td>0.021257</td>\n",
       "      <td>-0.143101</td>\n",
       "      <td>0.132802</td>\n",
       "      <td>-0.168419</td>\n",
       "      <td>0.030687</td>\n",
       "      <td>0.532462</td>\n",
       "      <td>0.475443</td>\n",
       "      <td>0.489150</td>\n",
       "      <td>1.000000</td>\n",
       "      <td>0.856347</td>\n",
       "    </tr>\n",
       "    <tr>\n",
       "      <th>1996</th>\n",
       "      <td>-0.045363</td>\n",
       "      <td>0.170034</td>\n",
       "      <td>0.106116</td>\n",
       "      <td>0.165970</td>\n",
       "      <td>0.217209</td>\n",
       "      <td>0.040257</td>\n",
       "      <td>0.593971</td>\n",
       "      <td>0.607916</td>\n",
       "      <td>0.174308</td>\n",
       "      <td>0.946667</td>\n",
       "      <td>0.777536</td>\n",
       "    </tr>\n",
       "    <tr>\n",
       "      <th>1997</th>\n",
       "      <td>-0.245168</td>\n",
       "      <td>0.069322</td>\n",
       "      <td>-0.135386</td>\n",
       "      <td>0.165280</td>\n",
       "      <td>0.086614</td>\n",
       "      <td>0.023568</td>\n",
       "      <td>0.551434</td>\n",
       "      <td>0.433593</td>\n",
       "      <td>0.102500</td>\n",
       "      <td>0.920000</td>\n",
       "      <td>0.624571</td>\n",
       "    </tr>\n",
       "  </tbody>\n",
       "</table>\n",
       "</div>"
      ],
      "text/plain": [
       "          gold  exchange_rate  long_term_interest_rate        m3  \\\n",
       "1993  0.159970       0.136074                -0.188515  0.061992   \n",
       "1994 -0.021083       0.083073                 0.308533  0.136966   \n",
       "1995  0.010921       0.021257                -0.143101  0.132802   \n",
       "1996 -0.045363       0.170034                 0.106116  0.165970   \n",
       "1997 -0.245168       0.069322                -0.135386  0.165280   \n",
       "\n",
       "      unemployment       gdp  current_account_balance       cpi  \\\n",
       "1993      0.000450  0.014399                 1.000000  0.621071   \n",
       "1994     -0.000800  0.031810                 0.738137  0.636458   \n",
       "1995     -0.168419  0.030687                 0.532462  0.475443   \n",
       "1996      0.217209  0.040257                 0.593971  0.607916   \n",
       "1997      0.086614  0.023568                 0.551434  0.433593   \n",
       "\n",
       "      ores_metal_imports  prime_energy  investment_gfcf  \n",
       "1993            0.109464      0.866667         0.329697  \n",
       "1994            0.084646      0.920000         0.741888  \n",
       "1995            0.489150      1.000000         0.856347  \n",
       "1996            0.174308      0.946667         0.777536  \n",
       "1997            0.102500      0.920000         0.624571  "
      ]
     },
     "execution_count": 16,
     "metadata": {},
     "output_type": "execute_result"
    }
   ],
   "source": [
    "X2.head()"
   ]
  },
  {
   "cell_type": "markdown",
   "metadata": {},
   "source": [
    "### Fit Random Forrest"
   ]
  },
  {
   "cell_type": "code",
   "execution_count": 18,
   "metadata": {},
   "outputs": [
    {
     "data": {
      "text/plain": [
       "RandomForestRegressor(bootstrap=True, criterion='mse', max_depth=4,\n",
       "           max_features='auto', max_leaf_nodes=None,\n",
       "           min_impurity_decrease=0.0, min_impurity_split=None,\n",
       "           min_samples_leaf=1, min_samples_split=2,\n",
       "           min_weight_fraction_leaf=0.0, n_estimators=100, n_jobs=None,\n",
       "           oob_score=False, random_state=42, verbose=0, warm_start=False)"
      ]
     },
     "execution_count": 18,
     "metadata": {},
     "output_type": "execute_result"
    }
   ],
   "source": [
    "regr2 = RandomForestRegressor(max_depth=4, criterion='mse', random_state=42, n_estimators=100)\n",
    "regr2.fit(X2, y2)"
   ]
  },
  {
   "cell_type": "code",
   "execution_count": 19,
   "metadata": {},
   "outputs": [
    {
     "data": {
      "image/png": "[encoded data removed]",
      "text/plain": [
       "<Figure size 1080x360 with 1 Axes>"
      ]
     },
     "metadata": {},
     "output_type": "display_data"
    }
   ],
   "source": [
    "title = 'Feature Importance: Share Prices'\n",
    "figsize = (15, 5)\n",
    "\n",
    "feat_imp = pd.DataFrame({'Importance':regr2.feature_importances_})    \n",
    "feat_imp['feature'] = X2.columns\n",
    "feat_imp.sort_values(by='Importance', ascending=False, inplace=True)\n",
    "feat_imp = feat_imp\n",
    "\n",
    "feat_imp.sort_values(by='Importance', inplace=True)\n",
    "feat_imp = feat_imp.set_index('feature', drop=True)\n",
    "feat_imp.plot.barh(title=title, figsize=figsize)\n",
    "plt.xlabel('Feature Importance Score')\n",
    "plt.show()"
   ]
  },
  {
   "cell_type": "markdown",
   "metadata": {},
   "source": [
    "Both RF models point to **Investment GFCF** as the most important feature (>0.3).\n",
    "\n",
    "Gross fixed capital formation (GFCF) is defined as the acquisition (including purchases of new or second-hand assets) and creation of assets by producers for their own use, minus disposals of produced fixed assets. The relevant assets relate to products that are intended for use in the production of other goods and services for a period of more than a year. The term \"produced assets\" means that only those assets that come into existence as a result of a production process recognised in the national accounts are included. This indicator is in million USD at current prices and PPPs, and in annual growth rates. All OECD countries compile their data according to the 2008 System of National Accounts (SNA).\n",
    "ref: https://data.oecd.org/gdp/investment-gfcf.htm"
   ]
  },
  {
   "cell_type": "markdown",
   "metadata": {},
   "source": [
    "## Model GDP - Linear Regression"
   ]
  },
  {
   "cell_type": "code",
   "execution_count": 20,
   "metadata": {},
   "outputs": [],
   "source": [
    "import statsmodels.api as sm\n",
    "\n",
    "# setting seed for reproducible result\n",
    "pd.np.random.seed(42)"
   ]
  },
  {
   "cell_type": "code",
   "execution_count": 53,
   "metadata": {},
   "outputs": [],
   "source": [
    "X_gfcf = data.iloc[1:, :]['investment_gfcf']"
   ]
  },
  {
   "cell_type": "code",
   "execution_count": 107,
   "metadata": {},
   "outputs": [],
   "source": [
    "#model = sm.OLS(y1, X_gfcf)\n",
    "model = sm.OLS(y1, sm.add_constant(X_gfcf))\n",
    "linear1 = model.fit()"
   ]
  },
  {
   "cell_type": "code",
   "execution_count": 108,
   "metadata": {
    "scrolled": false
   },
   "outputs": [
    {
     "data": {
      "text/html": [
       "<table class=\"simpletable\">\n",
       "<caption>OLS Regression Results</caption>\n",
       "<tr>\n",
       "  <th>Dep. Variable:</th>           <td>gdp</td>       <th>  R-squared:         </th> <td>   0.470</td>\n",
       "</tr>\n",
       "<tr>\n",
       "  <th>Model:</th>                   <td>OLS</td>       <th>  Adj. R-squared:    </th> <td>   0.446</td>\n",
       "</tr>\n",
       "<tr>\n",
       "  <th>Method:</th>             <td>Least Squares</td>  <th>  F-statistic:       </th> <td>   19.50</td>\n",
       "</tr>\n",
       "<tr>\n",
       "  <th>Date:</th>             <td>Mon, 21 Jan 2019</td> <th>  Prob (F-statistic):</th> <td>0.000219</td>\n",
       "</tr>\n",
       "<tr>\n",
       "  <th>Time:</th>                 <td>12:18:47</td>     <th>  Log-Likelihood:    </th> <td>  63.476</td>\n",
       "</tr>\n",
       "<tr>\n",
       "  <th>No. Observations:</th>      <td>    24</td>      <th>  AIC:               </th> <td>  -123.0</td>\n",
       "</tr>\n",
       "<tr>\n",
       "  <th>Df Residuals:</th>          <td>    22</td>      <th>  BIC:               </th> <td>  -120.6</td>\n",
       "</tr>\n",
       "<tr>\n",
       "  <th>Df Model:</th>              <td>     1</td>      <th>                     </th>     <td> </td>   \n",
       "</tr>\n",
       "<tr>\n",
       "  <th>Covariance Type:</th>      <td>nonrobust</td>    <th>                     </th>     <td> </td>   \n",
       "</tr>\n",
       "</table>\n",
       "<table class=\"simpletable\">\n",
       "<tr>\n",
       "         <td></td>            <th>coef</th>     <th>std err</th>      <th>t</th>      <th>P>|t|</th>  <th>[0.025</th>    <th>0.975]</th>  \n",
       "</tr>\n",
       "<tr>\n",
       "  <th>const</th>           <td>   -0.0033</td> <td>    0.008</td> <td>   -0.393</td> <td> 0.698</td> <td>   -0.021</td> <td>    0.014</td>\n",
       "</tr>\n",
       "<tr>\n",
       "  <th>investment_gfcf</th> <td>    0.0563</td> <td>    0.013</td> <td>    4.416</td> <td> 0.000</td> <td>    0.030</td> <td>    0.083</td>\n",
       "</tr>\n",
       "</table>\n",
       "<table class=\"simpletable\">\n",
       "<tr>\n",
       "  <th>Omnibus:</th>       <td> 0.031</td> <th>  Durbin-Watson:     </th> <td>   1.385</td>\n",
       "</tr>\n",
       "<tr>\n",
       "  <th>Prob(Omnibus):</th> <td> 0.985</td> <th>  Jarque-Bera (JB):  </th> <td>   0.078</td>\n",
       "</tr>\n",
       "<tr>\n",
       "  <th>Skew:</th>          <td> 0.008</td> <th>  Prob(JB):          </th> <td>   0.962</td>\n",
       "</tr>\n",
       "<tr>\n",
       "  <th>Kurtosis:</th>      <td> 2.721</td> <th>  Cond. No.          </th> <td>    4.76</td>\n",
       "</tr>\n",
       "</table><br/><br/>Warnings:<br/>[1] Standard Errors assume that the covariance matrix of the errors is correctly specified."
      ],
      "text/plain": [
       "<class 'statsmodels.iolib.summary.Summary'>\n",
       "\"\"\"\n",
       "                            OLS Regression Results                            \n",
       "==============================================================================\n",
       "Dep. Variable:                    gdp   R-squared:                       0.470\n",
       "Model:                            OLS   Adj. R-squared:                  0.446\n",
       "Method:                 Least Squares   F-statistic:                     19.50\n",
       "Date:                Mon, 21 Jan 2019   Prob (F-statistic):           0.000219\n",
       "Time:                        12:18:47   Log-Likelihood:                 63.476\n",
       "No. Observations:                  24   AIC:                            -123.0\n",
       "Df Residuals:                      22   BIC:                            -120.6\n",
       "Df Model:                           1                                         \n",
       "Covariance Type:            nonrobust                                         \n",
       "===================================================================================\n",
       "                      coef    std err          t      P>|t|      [0.025      0.975]\n",
       "-----------------------------------------------------------------------------------\n",
       "const              -0.0033      0.008     -0.393      0.698      -0.021       0.014\n",
       "investment_gfcf     0.0563      0.013      4.416      0.000       0.030       0.083\n",
       "==============================================================================\n",
       "Omnibus:                        0.031   Durbin-Watson:                   1.385\n",
       "Prob(Omnibus):                  0.985   Jarque-Bera (JB):                0.078\n",
       "Skew:                           0.008   Prob(JB):                        0.962\n",
       "Kurtosis:                       2.721   Cond. No.                         4.76\n",
       "==============================================================================\n",
       "\n",
       "Warnings:\n",
       "[1] Standard Errors assume that the covariance matrix of the errors is correctly specified.\n",
       "\"\"\""
      ]
     },
     "execution_count": 108,
     "metadata": {},
     "output_type": "execute_result"
    }
   ],
   "source": [
    "linear1.summary()"
   ]
  },
  {
   "cell_type": "code",
   "execution_count": 109,
   "metadata": {
    "scrolled": true
   },
   "outputs": [],
   "source": [
    "#formula1 = lambda x: linear1.params.investment_gfcf*x\n",
    "formula1 = lambda x: linear1.params.const + linear1.params.investment_gfcf*x"
   ]
  },
  {
   "cell_type": "code",
   "execution_count": 110,
   "metadata": {
    "scrolled": false
   },
   "outputs": [
    {
     "data": {
      "text/plain": [
       "<matplotlib.legend.Legend at 0x1c209cc240>"
      ]
     },
     "execution_count": 110,
     "metadata": {},
     "output_type": "execute_result"
    },
    {
     "data": {
      "image/png": "[encoded data removed]",
      "text/plain": [
       "<Figure size 720x432 with 1 Axes>"
      ]
     },
     "metadata": {},
     "output_type": "display_data"
    }
   ],
   "source": [
    "plt.figure(figsize=(10,6))\n",
    "plt.title('Annual Investment GFCF & Log Returns GDP Relationship')\n",
    "plt.xlabel('Annual Investment GFCF')\n",
    "plt.ylabel('Log Returns - GDP (with 1 Year Lag)')\n",
    "plt.plot(X_gfcf, y1, '*', \n",
    "         X_gfcf, formula1(X_gfcf), 'k');\n",
    "plt.legend(['Annual Investment GFCF x Log Returns GDP (Lag 1)','OLS - Linear Regression'])"
   ]
  },
  {
   "cell_type": "markdown",
   "metadata": {},
   "source": [
    "## Model Stock Market - Linear Regression"
   ]
  },
  {
   "cell_type": "code",
   "execution_count": 111,
   "metadata": {},
   "outputs": [],
   "source": [
    "#model = sm.OLS(y2, X_gfcf)\n",
    "model = sm.OLS(y2, sm.add_constant(X_gfcf))\n",
    "linear2 = model.fit()"
   ]
  },
  {
   "cell_type": "code",
   "execution_count": 112,
   "metadata": {
    "scrolled": false
   },
   "outputs": [
    {
     "data": {
      "text/html": [
       "<table class=\"simpletable\">\n",
       "<caption>OLS Regression Results</caption>\n",
       "<tr>\n",
       "  <th>Dep. Variable:</th>      <td>share_prices</td>   <th>  R-squared:         </th> <td>   0.362</td>\n",
       "</tr>\n",
       "<tr>\n",
       "  <th>Model:</th>                   <td>OLS</td>       <th>  Adj. R-squared:    </th> <td>   0.333</td>\n",
       "</tr>\n",
       "<tr>\n",
       "  <th>Method:</th>             <td>Least Squares</td>  <th>  F-statistic:       </th> <td>   12.47</td>\n",
       "</tr>\n",
       "<tr>\n",
       "  <th>Date:</th>             <td>Mon, 21 Jan 2019</td> <th>  Prob (F-statistic):</th>  <td>0.00188</td>\n",
       "</tr>\n",
       "<tr>\n",
       "  <th>Time:</th>                 <td>12:20:10</td>     <th>  Log-Likelihood:    </th> <td>  19.744</td>\n",
       "</tr>\n",
       "<tr>\n",
       "  <th>No. Observations:</th>      <td>    24</td>      <th>  AIC:               </th> <td>  -35.49</td>\n",
       "</tr>\n",
       "<tr>\n",
       "  <th>Df Residuals:</th>          <td>    22</td>      <th>  BIC:               </th> <td>  -33.13</td>\n",
       "</tr>\n",
       "<tr>\n",
       "  <th>Df Model:</th>              <td>     1</td>      <th>                     </th>     <td> </td>   \n",
       "</tr>\n",
       "<tr>\n",
       "  <th>Covariance Type:</th>      <td>nonrobust</td>    <th>                     </th>     <td> </td>   \n",
       "</tr>\n",
       "</table>\n",
       "<table class=\"simpletable\">\n",
       "<tr>\n",
       "         <td></td>            <th>coef</th>     <th>std err</th>      <th>t</th>      <th>P>|t|</th>  <th>[0.025</th>    <th>0.975]</th>  \n",
       "</tr>\n",
       "<tr>\n",
       "  <th>const</th>           <td>   -0.0503</td> <td>    0.052</td> <td>   -0.977</td> <td> 0.339</td> <td>   -0.157</td> <td>    0.057</td>\n",
       "</tr>\n",
       "<tr>\n",
       "  <th>investment_gfcf</th> <td>    0.2788</td> <td>    0.079</td> <td>    3.532</td> <td> 0.002</td> <td>    0.115</td> <td>    0.442</td>\n",
       "</tr>\n",
       "</table>\n",
       "<table class=\"simpletable\">\n",
       "<tr>\n",
       "  <th>Omnibus:</th>       <td>17.699</td> <th>  Durbin-Watson:     </th> <td>   2.103</td>\n",
       "</tr>\n",
       "<tr>\n",
       "  <th>Prob(Omnibus):</th> <td> 0.000</td> <th>  Jarque-Bera (JB):  </th> <td>  21.801</td>\n",
       "</tr>\n",
       "<tr>\n",
       "  <th>Skew:</th>          <td>-1.565</td> <th>  Prob(JB):          </th> <td>1.84e-05</td>\n",
       "</tr>\n",
       "<tr>\n",
       "  <th>Kurtosis:</th>      <td> 6.466</td> <th>  Cond. No.          </th> <td>    4.76</td>\n",
       "</tr>\n",
       "</table><br/><br/>Warnings:<br/>[1] Standard Errors assume that the covariance matrix of the errors is correctly specified."
      ],
      "text/plain": [
       "<class 'statsmodels.iolib.summary.Summary'>\n",
       "\"\"\"\n",
       "                            OLS Regression Results                            \n",
       "==============================================================================\n",
       "Dep. Variable:           share_prices   R-squared:                       0.362\n",
       "Model:                            OLS   Adj. R-squared:                  0.333\n",
       "Method:                 Least Squares   F-statistic:                     12.47\n",
       "Date:                Mon, 21 Jan 2019   Prob (F-statistic):            0.00188\n",
       "Time:                        12:20:10   Log-Likelihood:                 19.744\n",
       "No. Observations:                  24   AIC:                            -35.49\n",
       "Df Residuals:                      22   BIC:                            -33.13\n",
       "Df Model:                           1                                         \n",
       "Covariance Type:            nonrobust                                         \n",
       "===================================================================================\n",
       "                      coef    std err          t      P>|t|      [0.025      0.975]\n",
       "-----------------------------------------------------------------------------------\n",
       "const              -0.0503      0.052     -0.977      0.339      -0.157       0.057\n",
       "investment_gfcf     0.2788      0.079      3.532      0.002       0.115       0.442\n",
       "==============================================================================\n",
       "Omnibus:                       17.699   Durbin-Watson:                   2.103\n",
       "Prob(Omnibus):                  0.000   Jarque-Bera (JB):               21.801\n",
       "Skew:                          -1.565   Prob(JB):                     1.84e-05\n",
       "Kurtosis:                       6.466   Cond. No.                         4.76\n",
       "==============================================================================\n",
       "\n",
       "Warnings:\n",
       "[1] Standard Errors assume that the covariance matrix of the errors is correctly specified.\n",
       "\"\"\""
      ]
     },
     "execution_count": 112,
     "metadata": {},
     "output_type": "execute_result"
    }
   ],
   "source": [
    "linear2.summary()"
   ]
  },
  {
   "cell_type": "code",
   "execution_count": 113,
   "metadata": {
    "scrolled": true
   },
   "outputs": [],
   "source": [
    "#formula2 = lambda x: linear2.params.investment_gfcf*x\n",
    "formula2 = lambda x: linear2.params.const + linear2.params.investment_gfcf*x"
   ]
  },
  {
   "cell_type": "code",
   "execution_count": 114,
   "metadata": {
    "scrolled": false
   },
   "outputs": [
    {
     "data": {
      "text/plain": [
       "<matplotlib.legend.Legend at 0x1c20b2be48>"
      ]
     },
     "execution_count": 114,
     "metadata": {},
     "output_type": "execute_result"
    },
    {
     "data": {
      "image/png": "[encoded data removed]",
      "text/plain": [
       "<Figure size 720x432 with 1 Axes>"
      ]
     },
     "metadata": {},
     "output_type": "display_data"
    }
   ],
   "source": [
    "plt.figure(figsize=(10,6))\n",
    "plt.title('Annual Investment GFCF & Log Returns in Share Prices Relationship')\n",
    "plt.xlabel('Annual Investment GFCF')\n",
    "plt.ylabel('Log Returns - Share Prices (with 1 Year Lag)')\n",
    "plt.plot(X_gfcf, y2, '*', \n",
    "         X_gfcf, formula2(X_gfcf), 'k');\n",
    "plt.legend(['Annual Investment GFCF x Log Returns in Share Prices (Lag 1)','OLS - Linear Regression'])"
   ]
  },
  {
   "cell_type": "markdown",
   "metadata": {},
   "source": [
    "## Model GDP with All Features"
   ]
  },
  {
   "cell_type": "code",
   "execution_count": 115,
   "metadata": {},
   "outputs": [],
   "source": [
    "#model = sm.OLS(y1, X1)\n",
    "model = sm.OLS(y1, sm.add_constant(X1))\n",
    "linear3 = model.fit()"
   ]
  },
  {
   "cell_type": "code",
   "execution_count": 116,
   "metadata": {
    "scrolled": false
   },
   "outputs": [
    {
     "data": {
      "text/html": [
       "<table class=\"simpletable\">\n",
       "<caption>OLS Regression Results</caption>\n",
       "<tr>\n",
       "  <th>Dep. Variable:</th>           <td>gdp</td>       <th>  R-squared:         </th> <td>   0.868</td>\n",
       "</tr>\n",
       "<tr>\n",
       "  <th>Model:</th>                   <td>OLS</td>       <th>  Adj. R-squared:    </th> <td>   0.747</td>\n",
       "</tr>\n",
       "<tr>\n",
       "  <th>Method:</th>             <td>Least Squares</td>  <th>  F-statistic:       </th> <td>   7.165</td>\n",
       "</tr>\n",
       "<tr>\n",
       "  <th>Date:</th>             <td>Mon, 21 Jan 2019</td> <th>  Prob (F-statistic):</th> <td>0.000981</td>\n",
       "</tr>\n",
       "<tr>\n",
       "  <th>Time:</th>                 <td>12:21:22</td>     <th>  Log-Likelihood:    </th> <td>  80.149</td>\n",
       "</tr>\n",
       "<tr>\n",
       "  <th>No. Observations:</th>      <td>    24</td>      <th>  AIC:               </th> <td>  -136.3</td>\n",
       "</tr>\n",
       "<tr>\n",
       "  <th>Df Residuals:</th>          <td>    12</td>      <th>  BIC:               </th> <td>  -122.2</td>\n",
       "</tr>\n",
       "<tr>\n",
       "  <th>Df Model:</th>              <td>    11</td>      <th>                     </th>     <td> </td>   \n",
       "</tr>\n",
       "<tr>\n",
       "  <th>Covariance Type:</th>      <td>nonrobust</td>    <th>                     </th>     <td> </td>   \n",
       "</tr>\n",
       "</table>\n",
       "<table class=\"simpletable\">\n",
       "<tr>\n",
       "             <td></td>                <th>coef</th>     <th>std err</th>      <th>t</th>      <th>P>|t|</th>  <th>[0.025</th>    <th>0.975]</th>  \n",
       "</tr>\n",
       "<tr>\n",
       "  <th>const</th>                   <td>    0.0326</td> <td>    0.012</td> <td>    2.620</td> <td> 0.022</td> <td>    0.005</td> <td>    0.060</td>\n",
       "</tr>\n",
       "<tr>\n",
       "  <th> gold</th>                   <td>    0.0688</td> <td>    0.025</td> <td>    2.733</td> <td> 0.018</td> <td>    0.014</td> <td>    0.124</td>\n",
       "</tr>\n",
       "<tr>\n",
       "  <th>exchange_rate</th>           <td>    0.0848</td> <td>    0.042</td> <td>    1.999</td> <td> 0.069</td> <td>   -0.008</td> <td>    0.177</td>\n",
       "</tr>\n",
       "<tr>\n",
       "  <th>share_prices</th>            <td>   -0.0714</td> <td>    0.026</td> <td>   -2.785</td> <td> 0.017</td> <td>   -0.127</td> <td>   -0.016</td>\n",
       "</tr>\n",
       "<tr>\n",
       "  <th>long_term_interest_rate</th> <td>   -0.0027</td> <td>    0.024</td> <td>   -0.112</td> <td> 0.912</td> <td>   -0.055</td> <td>    0.050</td>\n",
       "</tr>\n",
       "<tr>\n",
       "  <th>m3</th>                      <td>    0.2489</td> <td>    0.105</td> <td>    2.372</td> <td> 0.035</td> <td>    0.020</td> <td>    0.477</td>\n",
       "</tr>\n",
       "<tr>\n",
       "  <th>unemployment</th>            <td>   -0.0566</td> <td>    0.050</td> <td>   -1.132</td> <td> 0.280</td> <td>   -0.165</td> <td>    0.052</td>\n",
       "</tr>\n",
       "<tr>\n",
       "  <th>current_account_balance</th> <td>   -0.0569</td> <td>    0.017</td> <td>   -3.301</td> <td> 0.006</td> <td>   -0.094</td> <td>   -0.019</td>\n",
       "</tr>\n",
       "<tr>\n",
       "  <th>cpi</th>                     <td>   -0.0236</td> <td>    0.028</td> <td>   -0.847</td> <td> 0.413</td> <td>   -0.084</td> <td>    0.037</td>\n",
       "</tr>\n",
       "<tr>\n",
       "  <th>ores_metal_imports</th>      <td>   -0.0493</td> <td>    0.019</td> <td>   -2.622</td> <td> 0.022</td> <td>   -0.090</td> <td>   -0.008</td>\n",
       "</tr>\n",
       "<tr>\n",
       "  <th>prime_energy</th>            <td>   -0.0077</td> <td>    0.013</td> <td>   -0.615</td> <td> 0.550</td> <td>   -0.035</td> <td>    0.020</td>\n",
       "</tr>\n",
       "<tr>\n",
       "  <th>investment_gfcf</th>         <td>    0.0439</td> <td>    0.020</td> <td>    2.221</td> <td> 0.046</td> <td>    0.001</td> <td>    0.087</td>\n",
       "</tr>\n",
       "</table>\n",
       "<table class=\"simpletable\">\n",
       "<tr>\n",
       "  <th>Omnibus:</th>       <td> 1.518</td> <th>  Durbin-Watson:     </th> <td>   2.347</td>\n",
       "</tr>\n",
       "<tr>\n",
       "  <th>Prob(Omnibus):</th> <td> 0.468</td> <th>  Jarque-Bera (JB):  </th> <td>   0.923</td>\n",
       "</tr>\n",
       "<tr>\n",
       "  <th>Skew:</th>          <td>-0.480</td> <th>  Prob(JB):          </th> <td>   0.630</td>\n",
       "</tr>\n",
       "<tr>\n",
       "  <th>Kurtosis:</th>      <td> 2.954</td> <th>  Cond. No.          </th> <td>    69.0</td>\n",
       "</tr>\n",
       "</table><br/><br/>Warnings:<br/>[1] Standard Errors assume that the covariance matrix of the errors is correctly specified."
      ],
      "text/plain": [
       "<class 'statsmodels.iolib.summary.Summary'>\n",
       "\"\"\"\n",
       "                            OLS Regression Results                            \n",
       "==============================================================================\n",
       "Dep. Variable:                    gdp   R-squared:                       0.868\n",
       "Model:                            OLS   Adj. R-squared:                  0.747\n",
       "Method:                 Least Squares   F-statistic:                     7.165\n",
       "Date:                Mon, 21 Jan 2019   Prob (F-statistic):           0.000981\n",
       "Time:                        12:21:22   Log-Likelihood:                 80.149\n",
       "No. Observations:                  24   AIC:                            -136.3\n",
       "Df Residuals:                      12   BIC:                            -122.2\n",
       "Df Model:                          11                                         \n",
       "Covariance Type:            nonrobust                                         \n",
       "===========================================================================================\n",
       "                              coef    std err          t      P>|t|      [0.025      0.975]\n",
       "-------------------------------------------------------------------------------------------\n",
       "const                       0.0326      0.012      2.620      0.022       0.005       0.060\n",
       " gold                       0.0688      0.025      2.733      0.018       0.014       0.124\n",
       "exchange_rate               0.0848      0.042      1.999      0.069      -0.008       0.177\n",
       "share_prices               -0.0714      0.026     -2.785      0.017      -0.127      -0.016\n",
       "long_term_interest_rate    -0.0027      0.024     -0.112      0.912      -0.055       0.050\n",
       "m3                          0.2489      0.105      2.372      0.035       0.020       0.477\n",
       "unemployment               -0.0566      0.050     -1.132      0.280      -0.165       0.052\n",
       "current_account_balance    -0.0569      0.017     -3.301      0.006      -0.094      -0.019\n",
       "cpi                        -0.0236      0.028     -0.847      0.413      -0.084       0.037\n",
       "ores_metal_imports         -0.0493      0.019     -2.622      0.022      -0.090      -0.008\n",
       "prime_energy               -0.0077      0.013     -0.615      0.550      -0.035       0.020\n",
       "investment_gfcf             0.0439      0.020      2.221      0.046       0.001       0.087\n",
       "==============================================================================\n",
       "Omnibus:                        1.518   Durbin-Watson:                   2.347\n",
       "Prob(Omnibus):                  0.468   Jarque-Bera (JB):                0.923\n",
       "Skew:                          -0.480   Prob(JB):                        0.630\n",
       "Kurtosis:                       2.954   Cond. No.                         69.0\n",
       "==============================================================================\n",
       "\n",
       "Warnings:\n",
       "[1] Standard Errors assume that the covariance matrix of the errors is correctly specified.\n",
       "\"\"\""
      ]
     },
     "execution_count": 116,
     "metadata": {},
     "output_type": "execute_result"
    }
   ],
   "source": [
    "linear3.summary()"
   ]
  },
  {
   "cell_type": "markdown",
   "metadata": {},
   "source": [
    "## Model Stock Market with All Features"
   ]
  },
  {
   "cell_type": "code",
   "execution_count": 117,
   "metadata": {},
   "outputs": [],
   "source": [
    "#model = sm.OLS(y2, X2)\n",
    "model = sm.OLS(y2, sm.add_constant(X2))\n",
    "linear4 = model.fit()"
   ]
  },
  {
   "cell_type": "code",
   "execution_count": 118,
   "metadata": {
    "scrolled": false
   },
   "outputs": [
    {
     "data": {
      "text/html": [
       "<table class=\"simpletable\">\n",
       "<caption>OLS Regression Results</caption>\n",
       "<tr>\n",
       "  <th>Dep. Variable:</th>      <td>share_prices</td>   <th>  R-squared:         </th> <td>   0.622</td>\n",
       "</tr>\n",
       "<tr>\n",
       "  <th>Model:</th>                   <td>OLS</td>       <th>  Adj. R-squared:    </th> <td>   0.276</td>\n",
       "</tr>\n",
       "<tr>\n",
       "  <th>Method:</th>             <td>Least Squares</td>  <th>  F-statistic:       </th> <td>   1.797</td>\n",
       "</tr>\n",
       "<tr>\n",
       "  <th>Date:</th>             <td>Mon, 21 Jan 2019</td> <th>  Prob (F-statistic):</th>  <td> 0.164</td> \n",
       "</tr>\n",
       "<tr>\n",
       "  <th>Time:</th>                 <td>12:21:46</td>     <th>  Log-Likelihood:    </th> <td>  26.037</td>\n",
       "</tr>\n",
       "<tr>\n",
       "  <th>No. Observations:</th>      <td>    24</td>      <th>  AIC:               </th> <td>  -28.07</td>\n",
       "</tr>\n",
       "<tr>\n",
       "  <th>Df Residuals:</th>          <td>    12</td>      <th>  BIC:               </th> <td>  -13.94</td>\n",
       "</tr>\n",
       "<tr>\n",
       "  <th>Df Model:</th>              <td>    11</td>      <th>                     </th>     <td> </td>   \n",
       "</tr>\n",
       "<tr>\n",
       "  <th>Covariance Type:</th>      <td>nonrobust</td>    <th>                     </th>     <td> </td>   \n",
       "</tr>\n",
       "</table>\n",
       "<table class=\"simpletable\">\n",
       "<tr>\n",
       "             <td></td>                <th>coef</th>     <th>std err</th>      <th>t</th>      <th>P>|t|</th>  <th>[0.025</th>    <th>0.975]</th>  \n",
       "</tr>\n",
       "<tr>\n",
       "  <th>const</th>                   <td>   -0.0565</td> <td>    0.117</td> <td>   -0.484</td> <td> 0.637</td> <td>   -0.311</td> <td>    0.198</td>\n",
       "</tr>\n",
       "<tr>\n",
       "  <th> gold</th>                   <td>    0.0773</td> <td>    0.248</td> <td>    0.312</td> <td> 0.760</td> <td>   -0.463</td> <td>    0.618</td>\n",
       "</tr>\n",
       "<tr>\n",
       "  <th>exchange_rate</th>           <td>    0.2393</td> <td>    0.412</td> <td>    0.581</td> <td> 0.572</td> <td>   -0.658</td> <td>    1.136</td>\n",
       "</tr>\n",
       "<tr>\n",
       "  <th>long_term_interest_rate</th> <td>   -0.1290</td> <td>    0.233</td> <td>   -0.554</td> <td> 0.590</td> <td>   -0.637</td> <td>    0.379</td>\n",
       "</tr>\n",
       "<tr>\n",
       "  <th>m3</th>                      <td>    1.1340</td> <td>    0.921</td> <td>    1.231</td> <td> 0.242</td> <td>   -0.873</td> <td>    3.141</td>\n",
       "</tr>\n",
       "<tr>\n",
       "  <th>unemployment</th>            <td>   -0.6144</td> <td>    0.448</td> <td>   -1.371</td> <td> 0.196</td> <td>   -1.591</td> <td>    0.362</td>\n",
       "</tr>\n",
       "<tr>\n",
       "  <th>gdp</th>                     <td>   -2.5270</td> <td>    2.169</td> <td>   -1.165</td> <td> 0.267</td> <td>   -7.253</td> <td>    2.199</td>\n",
       "</tr>\n",
       "<tr>\n",
       "  <th>current_account_balance</th> <td>   -0.0697</td> <td>    0.165</td> <td>   -0.424</td> <td> 0.679</td> <td>   -0.428</td> <td>    0.289</td>\n",
       "</tr>\n",
       "<tr>\n",
       "  <th>cpi</th>                     <td>    0.0549</td> <td>    0.278</td> <td>    0.197</td> <td> 0.847</td> <td>   -0.552</td> <td>    0.662</td>\n",
       "</tr>\n",
       "<tr>\n",
       "  <th>ores_metal_imports</th>      <td>    0.0365</td> <td>    0.165</td> <td>    0.221</td> <td> 0.829</td> <td>   -0.323</td> <td>    0.396</td>\n",
       "</tr>\n",
       "<tr>\n",
       "  <th>prime_energy</th>            <td>   -0.0705</td> <td>    0.113</td> <td>   -0.625</td> <td> 0.543</td> <td>   -0.316</td> <td>    0.175</td>\n",
       "</tr>\n",
       "<tr>\n",
       "  <th>investment_gfcf</th>         <td>    0.2260</td> <td>    0.216</td> <td>    1.045</td> <td> 0.317</td> <td>   -0.245</td> <td>    0.697</td>\n",
       "</tr>\n",
       "</table>\n",
       "<table class=\"simpletable\">\n",
       "<tr>\n",
       "  <th>Omnibus:</th>       <td>21.044</td> <th>  Durbin-Watson:     </th> <td>   2.734</td>\n",
       "</tr>\n",
       "<tr>\n",
       "  <th>Prob(Omnibus):</th> <td> 0.000</td> <th>  Jarque-Bera (JB):  </th> <td>  32.274</td>\n",
       "</tr>\n",
       "<tr>\n",
       "  <th>Skew:</th>          <td>-1.704</td> <th>  Prob(JB):          </th> <td>9.81e-08</td>\n",
       "</tr>\n",
       "<tr>\n",
       "  <th>Kurtosis:</th>      <td> 7.545</td> <th>  Cond. No.          </th> <td>    139.</td>\n",
       "</tr>\n",
       "</table><br/><br/>Warnings:<br/>[1] Standard Errors assume that the covariance matrix of the errors is correctly specified."
      ],
      "text/plain": [
       "<class 'statsmodels.iolib.summary.Summary'>\n",
       "\"\"\"\n",
       "                            OLS Regression Results                            \n",
       "==============================================================================\n",
       "Dep. Variable:           share_prices   R-squared:                       0.622\n",
       "Model:                            OLS   Adj. R-squared:                  0.276\n",
       "Method:                 Least Squares   F-statistic:                     1.797\n",
       "Date:                Mon, 21 Jan 2019   Prob (F-statistic):              0.164\n",
       "Time:                        12:21:46   Log-Likelihood:                 26.037\n",
       "No. Observations:                  24   AIC:                            -28.07\n",
       "Df Residuals:                      12   BIC:                            -13.94\n",
       "Df Model:                          11                                         \n",
       "Covariance Type:            nonrobust                                         \n",
       "===========================================================================================\n",
       "                              coef    std err          t      P>|t|      [0.025      0.975]\n",
       "-------------------------------------------------------------------------------------------\n",
       "const                      -0.0565      0.117     -0.484      0.637      -0.311       0.198\n",
       " gold                       0.0773      0.248      0.312      0.760      -0.463       0.618\n",
       "exchange_rate               0.2393      0.412      0.581      0.572      -0.658       1.136\n",
       "long_term_interest_rate    -0.1290      0.233     -0.554      0.590      -0.637       0.379\n",
       "m3                          1.1340      0.921      1.231      0.242      -0.873       3.141\n",
       "unemployment               -0.6144      0.448     -1.371      0.196      -1.591       0.362\n",
       "gdp                        -2.5270      2.169     -1.165      0.267      -7.253       2.199\n",
       "current_account_balance    -0.0697      0.165     -0.424      0.679      -0.428       0.289\n",
       "cpi                         0.0549      0.278      0.197      0.847      -0.552       0.662\n",
       "ores_metal_imports          0.0365      0.165      0.221      0.829      -0.323       0.396\n",
       "prime_energy               -0.0705      0.113     -0.625      0.543      -0.316       0.175\n",
       "investment_gfcf             0.2260      0.216      1.045      0.317      -0.245       0.697\n",
       "==============================================================================\n",
       "Omnibus:                       21.044   Durbin-Watson:                   2.734\n",
       "Prob(Omnibus):                  0.000   Jarque-Bera (JB):               32.274\n",
       "Skew:                          -1.704   Prob(JB):                     9.81e-08\n",
       "Kurtosis:                       7.545   Cond. No.                         139.\n",
       "==============================================================================\n",
       "\n",
       "Warnings:\n",
       "[1] Standard Errors assume that the covariance matrix of the errors is correctly specified.\n",
       "\"\"\""
      ]
     },
     "execution_count": 118,
     "metadata": {},
     "output_type": "execute_result"
    }
   ],
   "source": [
    "linear4.summary()"
   ]
  },
  {
   "cell_type": "markdown",
   "metadata": {},
   "source": [
    "## Comparisons"
   ]
  },
  {
   "cell_type": "code",
   "execution_count": 119,
   "metadata": {},
   "outputs": [],
   "source": [
    "compare_r2 = pd.DataFrame({'All':[linear3.rsquared,linear4.rsquared],\n",
    "                          'Investment GFCF':[linear1.rsquared,linear2.rsquared]},\n",
    "                          index=['GDP','Share Prices'])"
   ]
  },
  {
   "cell_type": "code",
   "execution_count": 120,
   "metadata": {},
   "outputs": [
    {
     "data": {
      "text/html": [
       "<div>\n",
       "<style scoped>\n",
       "    .dataframe tbody tr th:only-of-type {\n",
       "        vertical-align: middle;\n",
       "    }\n",
       "\n",
       "    .dataframe tbody tr th {\n",
       "        vertical-align: top;\n",
       "    }\n",
       "\n",
       "    .dataframe thead th {\n",
       "        text-align: right;\n",
       "    }\n",
       "</style>\n",
       "<table border=\"1\" class=\"dataframe\">\n",
       "  <thead>\n",
       "    <tr style=\"text-align: right;\">\n",
       "      <th></th>\n",
       "      <th>All</th>\n",
       "      <th>Investment GFCF</th>\n",
       "    </tr>\n",
       "  </thead>\n",
       "  <tbody>\n",
       "    <tr>\n",
       "      <th>GDP</th>\n",
       "      <td>0.868</td>\n",
       "      <td>0.470</td>\n",
       "    </tr>\n",
       "    <tr>\n",
       "      <th>Share Prices</th>\n",
       "      <td>0.622</td>\n",
       "      <td>0.362</td>\n",
       "    </tr>\n",
       "  </tbody>\n",
       "</table>\n",
       "</div>"
      ],
      "text/plain": [
       "                All  Investment GFCF\n",
       "GDP           0.868            0.470\n",
       "Share Prices  0.622            0.362"
      ]
     },
     "execution_count": 120,
     "metadata": {},
     "output_type": "execute_result"
    }
   ],
   "source": [
    "compare_r2.round(3)"
   ]
  },
  {
   "cell_type": "markdown",
   "metadata": {},
   "source": [
    "## Features Importance - Conclusion\n",
    "<p>\n",
    "We applied Random Forest Regressor (RF) on the 10 selected key factors to model against GDP and Share Prices as proxies to portfolio risk. The RF identified Investment GFCF as the most significant feature (importance scores close to 0.35 for both GDP and Share Prices). **[To include the 2 Features Importance graphs above]**\n",
    "</p>\n",
    "<p>\n",
    "We then applied Ordinary Least-Squares (OLS) Regression on Investment GFCF as a factor on both GDP and Share Prices. For GDP (logged returns with 1 year lag), the OLS model achieved an R-Squared (ie, the coefficient of determination) of 47% with just Investment GFCF as input factor. The OLS model achieved lower R-Squared score of 36.2% when model against Share Price returns. We also illustrated the relationship of the Investment GFCF factor and GDP, Share Prices returns in 2 separate charts together the corresponding regression lines. **[To include the 2 scatter plots above]**\n",
    "</p>\n",
    "<p>\n",
    "We also compared the performance of our single-factor OLS models against models trained with all 10 initial factors. As seen in table above, although the R-Squared scores are more impressive from the all-factors OLS models, our single-factor models still model relationships reasonably well (R-Squared of at least 36%). **[To include the compare_r2 table below]**\n",
    "</p>"
   ]
  },
  {
   "cell_type": "code",
   "execution_count": null,
   "metadata": {},
   "outputs": [],
   "source": []
  }
 ],
 "metadata": {
  "kernelspec": {
   "display_name": "Python 3",
   "language": "python",
   "name": "python3"
  },
  "language_info": {
   "codemirror_mode": {
    "name": "ipython",
    "version": 3
   },
   "file_extension": ".py",
   "mimetype": "text/x-python",
   "name": "python",
   "nbconvert_exporter": "python",
   "pygments_lexer": "ipython3",
   "version": "3.6.6"
  }
 },
 "nbformat": 4,
 "nbformat_minor": 2
}
