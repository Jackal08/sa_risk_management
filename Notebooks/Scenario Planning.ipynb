{
 "cells": [
  {
   "cell_type": "markdown",
   "metadata": {},
   "source": [
    "# Part 3: Proposal to Foreign Investors\n",
    "Students must write a proposal to foreign investors, analyzing key difference and challenge faced in their investment decisions. Students will be required to integrate both an economic and political analysis with some kind of forecast on markets using scenario planning, identifying the effects of likely fiscal and monetary policy responses and their effect on the investment environment. This would date from 2009 and would include responses to the Global Financial Crisis of 2007-2009."
   ]
  },
  {
   "cell_type": "code",
   "execution_count": 1,
   "metadata": {},
   "outputs": [],
   "source": [
    "import pandas as pd\n",
    "import numpy as np\n",
    "from sklearn.ensemble import RandomForestRegressor\n",
    "import scipy.linalg\n",
    "import statsmodels.api as sm\n",
    "\n",
    "from mpl_toolkits import mplot3d\n",
    "from mpl_toolkits.mplot3d import Axes3D\n",
    "import matplotlib.pyplot as plt\n",
    "%matplotlib inline"
   ]
  },
  {
   "cell_type": "markdown",
   "metadata": {},
   "source": [
    "## Introduction\n",
    "\n",
    "Using the same techniques from part 2 of our project, we will employ random forests to identify top economic features and the use two of the most important features in scenario planning (OLS)."
   ]
  },
  {
   "cell_type": "markdown",
   "metadata": {},
   "source": [
    "---\n",
    "## Gross Domestic Product (GDP)"
   ]
  },
  {
   "cell_type": "markdown",
   "metadata": {},
   "source": [
    "### Import Data"
   ]
  },
  {
   "cell_type": "code",
   "execution_count": 2,
   "metadata": {},
   "outputs": [],
   "source": [
    "data = pd.read_csv('../Data/final_data.csv', index_col=0)"
   ]
  },
  {
   "cell_type": "code",
   "execution_count": 3,
   "metadata": {},
   "outputs": [],
   "source": [
    "data.drop('current_account_balance.1', axis=1, inplace=True)  # Drop col as it is a duplicate\n",
    "data.drop('investment_gfcf', axis=1, inplace=True)  # Drop Investment GFCF as I suspect data leakage"
   ]
  },
  {
   "cell_type": "code",
   "execution_count": 4,
   "metadata": {},
   "outputs": [
    {
     "data": {
      "text/html": [
       "<div>\n",
       "<style scoped>\n",
       "    .dataframe tbody tr th:only-of-type {\n",
       "        vertical-align: middle;\n",
       "    }\n",
       "\n",
       "    .dataframe tbody tr th {\n",
       "        vertical-align: top;\n",
       "    }\n",
       "\n",
       "    .dataframe thead th {\n",
       "        text-align: right;\n",
       "    }\n",
       "</style>\n",
       "<table border=\"1\" class=\"dataframe\">\n",
       "  <thead>\n",
       "    <tr style=\"text-align: right;\">\n",
       "      <th></th>\n",
       "      <th>gold</th>\n",
       "      <th>exchange_rate</th>\n",
       "      <th>share_prices</th>\n",
       "      <th>long_term_interest_rate</th>\n",
       "      <th>m3</th>\n",
       "      <th>unemployment</th>\n",
       "      <th>gdp</th>\n",
       "      <th>current_account_balance</th>\n",
       "      <th>cpi</th>\n",
       "      <th>ores_metal_imports</th>\n",
       "      <th>prime_energy</th>\n",
       "    </tr>\n",
       "  </thead>\n",
       "  <tbody>\n",
       "    <tr>\n",
       "      <th>1992</th>\n",
       "      <td>-0.059758</td>\n",
       "      <td>0.032318</td>\n",
       "      <td>0.051715</td>\n",
       "      <td>-0.111649</td>\n",
       "      <td>0.083262</td>\n",
       "      <td>-0.005682</td>\n",
       "      <td>-0.020642</td>\n",
       "      <td>0.922480</td>\n",
       "      <td>0.618688</td>\n",
       "      <td>0.067813</td>\n",
       "      <td>0.680000</td>\n",
       "    </tr>\n",
       "    <tr>\n",
       "      <th>1993</th>\n",
       "      <td>0.159970</td>\n",
       "      <td>0.136074</td>\n",
       "      <td>0.135122</td>\n",
       "      <td>-0.188515</td>\n",
       "      <td>0.061992</td>\n",
       "      <td>0.000450</td>\n",
       "      <td>0.014399</td>\n",
       "      <td>1.000000</td>\n",
       "      <td>0.621071</td>\n",
       "      <td>0.109464</td>\n",
       "      <td>0.866667</td>\n",
       "    </tr>\n",
       "    <tr>\n",
       "      <th>1994</th>\n",
       "      <td>-0.021083</td>\n",
       "      <td>0.083073</td>\n",
       "      <td>0.339478</td>\n",
       "      <td>0.308533</td>\n",
       "      <td>0.136966</td>\n",
       "      <td>-0.000800</td>\n",
       "      <td>0.031810</td>\n",
       "      <td>0.738137</td>\n",
       "      <td>0.636458</td>\n",
       "      <td>0.084646</td>\n",
       "      <td>0.920000</td>\n",
       "    </tr>\n",
       "    <tr>\n",
       "      <th>1995</th>\n",
       "      <td>0.010921</td>\n",
       "      <td>0.021257</td>\n",
       "      <td>0.026136</td>\n",
       "      <td>-0.143101</td>\n",
       "      <td>0.132802</td>\n",
       "      <td>-0.168419</td>\n",
       "      <td>0.030687</td>\n",
       "      <td>0.532462</td>\n",
       "      <td>0.475443</td>\n",
       "      <td>0.489150</td>\n",
       "      <td>1.000000</td>\n",
       "    </tr>\n",
       "    <tr>\n",
       "      <th>1996</th>\n",
       "      <td>-0.045363</td>\n",
       "      <td>0.170034</td>\n",
       "      <td>0.187810</td>\n",
       "      <td>0.106116</td>\n",
       "      <td>0.165970</td>\n",
       "      <td>0.217209</td>\n",
       "      <td>0.040257</td>\n",
       "      <td>0.593971</td>\n",
       "      <td>0.607916</td>\n",
       "      <td>0.174308</td>\n",
       "      <td>0.946667</td>\n",
       "    </tr>\n",
       "  </tbody>\n",
       "</table>\n",
       "</div>"
      ],
      "text/plain": [
       "          gold  exchange_rate  share_prices  long_term_interest_rate  \\\n",
       "1992 -0.059758       0.032318      0.051715                -0.111649   \n",
       "1993  0.159970       0.136074      0.135122                -0.188515   \n",
       "1994 -0.021083       0.083073      0.339478                 0.308533   \n",
       "1995  0.010921       0.021257      0.026136                -0.143101   \n",
       "1996 -0.045363       0.170034      0.187810                 0.106116   \n",
       "\n",
       "            m3  unemployment       gdp  current_account_balance       cpi  \\\n",
       "1992  0.083262     -0.005682 -0.020642                 0.922480  0.618688   \n",
       "1993  0.061992      0.000450  0.014399                 1.000000  0.621071   \n",
       "1994  0.136966     -0.000800  0.031810                 0.738137  0.636458   \n",
       "1995  0.132802     -0.168419  0.030687                 0.532462  0.475443   \n",
       "1996  0.165970      0.217209  0.040257                 0.593971  0.607916   \n",
       "\n",
       "      ores_metal_imports  prime_energy  \n",
       "1992            0.067813      0.680000  \n",
       "1993            0.109464      0.866667  \n",
       "1994            0.084646      0.920000  \n",
       "1995            0.489150      1.000000  \n",
       "1996            0.174308      0.946667  "
      ]
     },
     "execution_count": 4,
     "metadata": {},
     "output_type": "execute_result"
    }
   ],
   "source": [
    "data.head()"
   ]
  },
  {
   "cell_type": "markdown",
   "metadata": {},
   "source": [
    "### Feature importance"
   ]
  },
  {
   "cell_type": "code",
   "execution_count": 5,
   "metadata": {},
   "outputs": [],
   "source": [
    "y_gdp = data['gdp']\n",
    "X_gdp = data.drop(['gdp', 'share_prices', 'current_account_balance'], axis=1)"
   ]
  },
  {
   "cell_type": "code",
   "execution_count": 6,
   "metadata": {},
   "outputs": [
    {
     "data": {
      "text/plain": [
       "1992   -0.020642\n",
       "1993    0.014399\n",
       "1994    0.031810\n",
       "1995    0.030687\n",
       "1996    0.040257\n",
       "Name: gdp, dtype: float64"
      ]
     },
     "execution_count": 6,
     "metadata": {},
     "output_type": "execute_result"
    }
   ],
   "source": [
    "y_gdp.head()"
   ]
  },
  {
   "cell_type": "code",
   "execution_count": 7,
   "metadata": {},
   "outputs": [
    {
     "data": {
      "text/html": [
       "<div>\n",
       "<style scoped>\n",
       "    .dataframe tbody tr th:only-of-type {\n",
       "        vertical-align: middle;\n",
       "    }\n",
       "\n",
       "    .dataframe tbody tr th {\n",
       "        vertical-align: top;\n",
       "    }\n",
       "\n",
       "    .dataframe thead th {\n",
       "        text-align: right;\n",
       "    }\n",
       "</style>\n",
       "<table border=\"1\" class=\"dataframe\">\n",
       "  <thead>\n",
       "    <tr style=\"text-align: right;\">\n",
       "      <th></th>\n",
       "      <th>gold</th>\n",
       "      <th>exchange_rate</th>\n",
       "      <th>long_term_interest_rate</th>\n",
       "      <th>m3</th>\n",
       "      <th>unemployment</th>\n",
       "      <th>cpi</th>\n",
       "      <th>ores_metal_imports</th>\n",
       "      <th>prime_energy</th>\n",
       "    </tr>\n",
       "  </thead>\n",
       "  <tbody>\n",
       "    <tr>\n",
       "      <th>1992</th>\n",
       "      <td>-0.059758</td>\n",
       "      <td>0.032318</td>\n",
       "      <td>-0.111649</td>\n",
       "      <td>0.083262</td>\n",
       "      <td>-0.005682</td>\n",
       "      <td>0.618688</td>\n",
       "      <td>0.067813</td>\n",
       "      <td>0.680000</td>\n",
       "    </tr>\n",
       "    <tr>\n",
       "      <th>1993</th>\n",
       "      <td>0.159970</td>\n",
       "      <td>0.136074</td>\n",
       "      <td>-0.188515</td>\n",
       "      <td>0.061992</td>\n",
       "      <td>0.000450</td>\n",
       "      <td>0.621071</td>\n",
       "      <td>0.109464</td>\n",
       "      <td>0.866667</td>\n",
       "    </tr>\n",
       "    <tr>\n",
       "      <th>1994</th>\n",
       "      <td>-0.021083</td>\n",
       "      <td>0.083073</td>\n",
       "      <td>0.308533</td>\n",
       "      <td>0.136966</td>\n",
       "      <td>-0.000800</td>\n",
       "      <td>0.636458</td>\n",
       "      <td>0.084646</td>\n",
       "      <td>0.920000</td>\n",
       "    </tr>\n",
       "    <tr>\n",
       "      <th>1995</th>\n",
       "      <td>0.010921</td>\n",
       "      <td>0.021257</td>\n",
       "      <td>-0.143101</td>\n",
       "      <td>0.132802</td>\n",
       "      <td>-0.168419</td>\n",
       "      <td>0.475443</td>\n",
       "      <td>0.489150</td>\n",
       "      <td>1.000000</td>\n",
       "    </tr>\n",
       "    <tr>\n",
       "      <th>1996</th>\n",
       "      <td>-0.045363</td>\n",
       "      <td>0.170034</td>\n",
       "      <td>0.106116</td>\n",
       "      <td>0.165970</td>\n",
       "      <td>0.217209</td>\n",
       "      <td>0.607916</td>\n",
       "      <td>0.174308</td>\n",
       "      <td>0.946667</td>\n",
       "    </tr>\n",
       "  </tbody>\n",
       "</table>\n",
       "</div>"
      ],
      "text/plain": [
       "          gold  exchange_rate  long_term_interest_rate        m3  \\\n",
       "1992 -0.059758       0.032318                -0.111649  0.083262   \n",
       "1993  0.159970       0.136074                -0.188515  0.061992   \n",
       "1994 -0.021083       0.083073                 0.308533  0.136966   \n",
       "1995  0.010921       0.021257                -0.143101  0.132802   \n",
       "1996 -0.045363       0.170034                 0.106116  0.165970   \n",
       "\n",
       "      unemployment       cpi  ores_metal_imports  prime_energy  \n",
       "1992     -0.005682  0.618688            0.067813      0.680000  \n",
       "1993      0.000450  0.621071            0.109464      0.866667  \n",
       "1994     -0.000800  0.636458            0.084646      0.920000  \n",
       "1995     -0.168419  0.475443            0.489150      1.000000  \n",
       "1996      0.217209  0.607916            0.174308      0.946667  "
      ]
     },
     "execution_count": 7,
     "metadata": {},
     "output_type": "execute_result"
    }
   ],
   "source": [
    "X_gdp.head()"
   ]
  },
  {
   "cell_type": "markdown",
   "metadata": {},
   "source": [
    "#### Fit Random Forrest"
   ]
  },
  {
   "cell_type": "code",
   "execution_count": 8,
   "metadata": {},
   "outputs": [
    {
     "data": {
      "text/plain": [
       "RandomForestRegressor(bootstrap=True, criterion='mse', max_depth=4,\n",
       "           max_features='auto', max_leaf_nodes=None,\n",
       "           min_impurity_decrease=0.0, min_impurity_split=None,\n",
       "           min_samples_leaf=1, min_samples_split=2,\n",
       "           min_weight_fraction_leaf=0.0, n_estimators=1000, n_jobs=None,\n",
       "           oob_score=False, random_state=42, verbose=0, warm_start=False)"
      ]
     },
     "execution_count": 8,
     "metadata": {},
     "output_type": "execute_result"
    }
   ],
   "source": [
    "regr1 = RandomForestRegressor(max_depth=4, criterion='mse', random_state=42, n_estimators=1000)\n",
    "regr1.fit(X_gdp, y_gdp)"
   ]
  },
  {
   "cell_type": "code",
   "execution_count": 9,
   "metadata": {},
   "outputs": [
    {
     "data": {
      "image/png": "[encoded data removed]",
      "text/plain": [
       "<Figure size 1080x360 with 1 Axes>"
      ]
     },
     "metadata": {
      "needs_background": "light"
     },
     "output_type": "display_data"
    }
   ],
   "source": [
    "title = 'Feature Importance: GDP'\n",
    "figsize = (15, 5)\n",
    "\n",
    "feat_imp = pd.DataFrame({'Importance':regr1.feature_importances_})    \n",
    "feat_imp['feature'] = X_gdp.columns\n",
    "feat_imp.sort_values(by='Importance', ascending=False, inplace=True)\n",
    "feat_imp = feat_imp\n",
    "\n",
    "feat_imp.sort_values(by='Importance', inplace=True)\n",
    "feat_imp = feat_imp.set_index('feature', drop=True)\n",
    "feat_imp.plot.barh(title=title, figsize=figsize)\n",
    "plt.xlabel('Feature Importance Score')\n",
    "plt.show()"
   ]
  },
  {
   "cell_type": "markdown",
   "metadata": {},
   "source": [
    "### Linear Model"
   ]
  },
  {
   "cell_type": "code",
   "execution_count": 10,
   "metadata": {},
   "outputs": [],
   "source": [
    "# setting seed for reproducible result\n",
    "pd.np.random.seed(42)"
   ]
  },
  {
   "cell_type": "code",
   "execution_count": 11,
   "metadata": {},
   "outputs": [
    {
     "data": {
      "text/plain": [
       "Index([' gold', 'exchange_rate', 'long_term_interest_rate', 'm3',\n",
       "       'unemployment', 'cpi', 'ores_metal_imports', 'prime_energy'],\n",
       "      dtype='object')"
      ]
     },
     "execution_count": 11,
     "metadata": {},
     "output_type": "execute_result"
    }
   ],
   "source": [
    "X_gdp.columns"
   ]
  },
  {
   "cell_type": "code",
   "execution_count": 12,
   "metadata": {},
   "outputs": [
    {
     "data": {
      "text/html": [
       "<div>\n",
       "<style scoped>\n",
       "    .dataframe tbody tr th:only-of-type {\n",
       "        vertical-align: middle;\n",
       "    }\n",
       "\n",
       "    .dataframe tbody tr th {\n",
       "        vertical-align: top;\n",
       "    }\n",
       "\n",
       "    .dataframe thead th {\n",
       "        text-align: right;\n",
       "    }\n",
       "</style>\n",
       "<table border=\"1\" class=\"dataframe\">\n",
       "  <thead>\n",
       "    <tr style=\"text-align: right;\">\n",
       "      <th></th>\n",
       "      <th>m3</th>\n",
       "      <th>unemployment</th>\n",
       "    </tr>\n",
       "  </thead>\n",
       "  <tbody>\n",
       "    <tr>\n",
       "      <th>1992</th>\n",
       "      <td>0.083262</td>\n",
       "      <td>-0.005682</td>\n",
       "    </tr>\n",
       "    <tr>\n",
       "      <th>1993</th>\n",
       "      <td>0.061992</td>\n",
       "      <td>0.000450</td>\n",
       "    </tr>\n",
       "    <tr>\n",
       "      <th>1994</th>\n",
       "      <td>0.136966</td>\n",
       "      <td>-0.000800</td>\n",
       "    </tr>\n",
       "    <tr>\n",
       "      <th>1995</th>\n",
       "      <td>0.132802</td>\n",
       "      <td>-0.168419</td>\n",
       "    </tr>\n",
       "    <tr>\n",
       "      <th>1996</th>\n",
       "      <td>0.165970</td>\n",
       "      <td>0.217209</td>\n",
       "    </tr>\n",
       "  </tbody>\n",
       "</table>\n",
       "</div>"
      ],
      "text/plain": [
       "            m3  unemployment\n",
       "1992  0.083262     -0.005682\n",
       "1993  0.061992      0.000450\n",
       "1994  0.136966     -0.000800\n",
       "1995  0.132802     -0.168419\n",
       "1996  0.165970      0.217209"
      ]
     },
     "execution_count": 12,
     "metadata": {},
     "output_type": "execute_result"
    }
   ],
   "source": [
    "X_gdp_reg = X_gdp.loc[:, ['m3', 'unemployment']]\n",
    "X_gdp_reg.head()"
   ]
  },
  {
   "cell_type": "code",
   "execution_count": 13,
   "metadata": {},
   "outputs": [],
   "source": [
    "model = sm.OLS(y_gdp, sm.add_constant(X_gdp_reg))\n",
    "linear1 = model.fit()"
   ]
  },
  {
   "cell_type": "code",
   "execution_count": 14,
   "metadata": {
    "scrolled": false
   },
   "outputs": [
    {
     "data": {
      "text/html": [
       "<table class=\"simpletable\">\n",
       "<caption>OLS Regression Results</caption>\n",
       "<tr>\n",
       "  <th>Dep. Variable:</th>           <td>gdp</td>       <th>  R-squared:         </th> <td>   0.540</td>\n",
       "</tr>\n",
       "<tr>\n",
       "  <th>Model:</th>                   <td>OLS</td>       <th>  Adj. R-squared:    </th> <td>   0.498</td>\n",
       "</tr>\n",
       "<tr>\n",
       "  <th>Method:</th>             <td>Least Squares</td>  <th>  F-statistic:       </th> <td>   12.91</td>\n",
       "</tr>\n",
       "<tr>\n",
       "  <th>Date:</th>             <td>Sat, 02 Feb 2019</td> <th>  Prob (F-statistic):</th> <td>0.000195</td>\n",
       "</tr>\n",
       "<tr>\n",
       "  <th>Time:</th>                 <td>16:15:30</td>     <th>  Log-Likelihood:    </th> <td>  67.759</td>\n",
       "</tr>\n",
       "<tr>\n",
       "  <th>No. Observations:</th>      <td>    25</td>      <th>  AIC:               </th> <td>  -129.5</td>\n",
       "</tr>\n",
       "<tr>\n",
       "  <th>Df Residuals:</th>          <td>    22</td>      <th>  BIC:               </th> <td>  -125.9</td>\n",
       "</tr>\n",
       "<tr>\n",
       "  <th>Df Model:</th>              <td>     2</td>      <th>                     </th>     <td> </td>   \n",
       "</tr>\n",
       "<tr>\n",
       "  <th>Covariance Type:</th>      <td>nonrobust</td>    <th>                     </th>     <td> </td>   \n",
       "</tr>\n",
       "</table>\n",
       "<table class=\"simpletable\">\n",
       "<tr>\n",
       "        <td></td>          <th>coef</th>     <th>std err</th>      <th>t</th>      <th>P>|t|</th>  <th>[0.025</th>    <th>0.975]</th>  \n",
       "</tr>\n",
       "<tr>\n",
       "  <th>const</th>        <td>   -0.0038</td> <td>    0.008</td> <td>   -0.474</td> <td> 0.640</td> <td>   -0.021</td> <td>    0.013</td>\n",
       "</tr>\n",
       "<tr>\n",
       "  <th>m3</th>           <td>    0.2969</td> <td>    0.065</td> <td>    4.593</td> <td> 0.000</td> <td>    0.163</td> <td>    0.431</td>\n",
       "</tr>\n",
       "<tr>\n",
       "  <th>unemployment</th> <td>   -0.1151</td> <td>    0.048</td> <td>   -2.402</td> <td> 0.025</td> <td>   -0.214</td> <td>   -0.016</td>\n",
       "</tr>\n",
       "</table>\n",
       "<table class=\"simpletable\">\n",
       "<tr>\n",
       "  <th>Omnibus:</th>       <td> 2.908</td> <th>  Durbin-Watson:     </th> <td>   1.512</td>\n",
       "</tr>\n",
       "<tr>\n",
       "  <th>Prob(Omnibus):</th> <td> 0.234</td> <th>  Jarque-Bera (JB):  </th> <td>   1.953</td>\n",
       "</tr>\n",
       "<tr>\n",
       "  <th>Skew:</th>          <td>-0.684</td> <th>  Prob(JB):          </th> <td>   0.377</td>\n",
       "</tr>\n",
       "<tr>\n",
       "  <th>Kurtosis:</th>      <td> 3.052</td> <th>  Cond. No.          </th> <td>    19.1</td>\n",
       "</tr>\n",
       "</table><br/><br/>Warnings:<br/>[1] Standard Errors assume that the covariance matrix of the errors is correctly specified."
      ],
      "text/plain": [
       "<class 'statsmodels.iolib.summary.Summary'>\n",
       "\"\"\"\n",
       "                            OLS Regression Results                            \n",
       "==============================================================================\n",
       "Dep. Variable:                    gdp   R-squared:                       0.540\n",
       "Model:                            OLS   Adj. R-squared:                  0.498\n",
       "Method:                 Least Squares   F-statistic:                     12.91\n",
       "Date:                Sat, 02 Feb 2019   Prob (F-statistic):           0.000195\n",
       "Time:                        16:15:30   Log-Likelihood:                 67.759\n",
       "No. Observations:                  25   AIC:                            -129.5\n",
       "Df Residuals:                      22   BIC:                            -125.9\n",
       "Df Model:                           2                                         \n",
       "Covariance Type:            nonrobust                                         \n",
       "================================================================================\n",
       "                   coef    std err          t      P>|t|      [0.025      0.975]\n",
       "--------------------------------------------------------------------------------\n",
       "const           -0.0038      0.008     -0.474      0.640      -0.021       0.013\n",
       "m3               0.2969      0.065      4.593      0.000       0.163       0.431\n",
       "unemployment    -0.1151      0.048     -2.402      0.025      -0.214      -0.016\n",
       "==============================================================================\n",
       "Omnibus:                        2.908   Durbin-Watson:                   1.512\n",
       "Prob(Omnibus):                  0.234   Jarque-Bera (JB):                1.953\n",
       "Skew:                          -0.684   Prob(JB):                        0.377\n",
       "Kurtosis:                       3.052   Cond. No.                         19.1\n",
       "==============================================================================\n",
       "\n",
       "Warnings:\n",
       "[1] Standard Errors assume that the covariance matrix of the errors is correctly specified.\n",
       "\"\"\""
      ]
     },
     "execution_count": 14,
     "metadata": {},
     "output_type": "execute_result"
    }
   ],
   "source": [
    "linear1.summary()"
   ]
  },
  {
   "cell_type": "markdown",
   "metadata": {},
   "source": [
    "### Plot Relationship"
   ]
  },
  {
   "cell_type": "code",
   "execution_count": 15,
   "metadata": {},
   "outputs": [],
   "source": [
    "# These values are in the range of the respected variables\n",
    "m3 = np.linspace(0, 22, 1000)/100\n",
    "unemployment = np.linspace(-16, 22, 1000)/100\n",
    "\n",
    "hyperplane = pd.DataFrame.from_records([m3, unemployment]).T\n",
    "hyperplane.columns = ['m3', 'unemployment']\n",
    "\n",
    "y = []\n",
    "for i in range(0, hyperplane.shape[0]):\n",
    "    y_i = linear1.params.const + (linear1.params.m3 * hyperplane.loc[i, 'm3']) + (linear1.params.unemployment * hyperplane.loc[i, 'unemployment'])\n",
    "    y.append(y_i)\n",
    "    \n",
    "y = np.array(y)\n",
    "\n",
    "xdata = X_gdp_reg['m3']\n",
    "zdata = X_gdp_reg['unemployment']\n",
    "ydata = y_gdp"
   ]
  },
  {
   "cell_type": "code",
   "execution_count": 19,
   "metadata": {},
   "outputs": [
    {
     "data": {
      "image/png": "[encoded data removed]",
      "text/plain": [
       "<Figure size 1080x864 with 1 Axes>"
      ]
     },
     "metadata": {
      "needs_background": "light"
     },
     "output_type": "display_data"
    }
   ],
   "source": [
    "# Sourced from: https://gist.github.com/amroamroamro/1db8d69b4b65e8bc66a6\n",
    "\n",
    "# some 3-dim points\n",
    "x = xdata\n",
    "y = ydata\n",
    "z = zdata\n",
    "plot_data = np.c_[x,y,z]\n",
    "\n",
    "# regular grid covering the domain of the data\n",
    "mn = np.min(plot_data, axis=0)\n",
    "mx = np.max(plot_data, axis=0)\n",
    "X,Y = np.meshgrid(np.linspace(mn[0], mx[0], 20), np.linspace(mn[1], mx[1], 20))\n",
    "\n",
    "XX = X.flatten()\n",
    "YY = Y.flatten()\n",
    "\n",
    "order = 1   # 1: linear, 2: quadratic\n",
    "if order == 1:\n",
    "    # best-fit linear plane\n",
    "    A = np.c_[plot_data[:,0], plot_data[:,1], np.ones(plot_data.shape[0])]\n",
    "    C,_,_,_ = scipy.linalg.lstsq(A, plot_data[:,2])    # coefficients\n",
    "    \n",
    "    # evaluate it on grid\n",
    "    Z = C[0]*X + C[1]*Y + C[2]\n",
    "\n",
    "elif order == 2:\n",
    "    # best-fit quadratic curve\n",
    "    A = np.c_[np.ones(plot_data.shape[0]), plot_data[:,:2], np.prod(plot_data[:,:2], axis=1), plot_data[:,:2]**2]\n",
    "    C,_,_,_ = scipy.linalg.lstsq(A, plot_data[:,2])\n",
    "    \n",
    "    # evaluate it on a grid\n",
    "    Z = np.dot(np.c_[np.ones(XX.shape), XX, YY, XX*YY, XX**2, YY**2], C).reshape(X.shape)\n",
    "\n",
    "# plot points and fitted surface\n",
    "fig = plt.figure(figsize=(15,12))\n",
    "ax = fig.gca(projection='3d')\n",
    "ax.plot_surface(X, Y, Z, rstride=1, cstride=1, alpha=0.5)\n",
    "ax.scatter(plot_data[:,0], plot_data[:,1], plot_data[:,2], c='r', s=50)\n",
    "\n",
    "ax.set_zlabel('GDP Growth')\n",
    "ax.set_xlabel('M3 Money Supply')\n",
    "ax.set_ylabel('Unemployment')\n",
    "\n",
    "ax.axis('tight')\n",
    "\n",
    "plt.title('Linear Relationship: GDP Growth')\n",
    "plt.show()"
   ]
  },
  {
   "cell_type": "markdown",
   "metadata": {},
   "source": [
    "## Scenario Planning\n",
    "\n",
    "For this part we use the linear model that we trained using unemployment and M3 money supply to help predict GDP growth. \n",
    "\n",
    "We assess three different scenarios for the period (2009 to 2010): \n",
    "\n",
    "1. An decrease in unemployment at the optimial level as determined by government (-4.90%) \n",
    "2. The forecasted unemployment levels as predicted by the world bank (5.06%)\n",
    "3. A increase in unemployment by the same levels of 2009 (4.83)\n",
    "\n",
    "In all three cases we assume that M3 money supply stays constant at the 2009 rate (0.008854)\n",
    "\n",
    "**Note**: A relative grwoth rate is defined as the percent change in unemployment from one year to the next. "
   ]
  },
  {
   "cell_type": "markdown",
   "metadata": {},
   "source": [
    "### 1. A decrease in unemployment at the levels targeted by government 2009-2010\n",
    "\n",
    "An employment growth rate of 4.9% is required to raise total employment. Given the mean of the relative growth rate is 1.1\\% we push the relative growth rate to 4.9% and see how GDP reacts. "
   ]
  },
  {
   "cell_type": "code",
   "execution_count": 59,
   "metadata": {},
   "outputs": [
    {
     "data": {
      "text/plain": [
       "count    25.000000\n",
       "mean      0.011091\n",
       "std       0.073180\n",
       "min      -0.168419\n",
       "25%      -0.006491\n",
       "50%       0.003240\n",
       "75%       0.048302\n",
       "max       0.217209\n",
       "Name: unemployment, dtype: float64"
      ]
     },
     "execution_count": 59,
     "metadata": {},
     "output_type": "execute_result"
    }
   ],
   "source": [
    "data['unemployment'].describe()"
   ]
  },
  {
   "cell_type": "code",
   "execution_count": 60,
   "metadata": {},
   "outputs": [
    {
     "name": "stdout",
     "output_type": "stream",
     "text": [
      "GDP Growth at forecasted 2010 unemployment: 0.00443\n"
     ]
    }
   ],
   "source": [
    "x = np.array([1, 0.008854, -0.049])\n",
    "forecasted_gdp = linear1.predict(x)[0]\n",
    "print('GDP Growth at forecasted 2010 unemployment: {}'.format(round(forecasted_gdp, 5)))"
   ]
  },
  {
   "cell_type": "markdown",
   "metadata": {},
   "source": [
    "At these levels GDP only increases by 0.4\\%. These levels would lead to an increase in GDP. Although, not a massive increase."
   ]
  },
  {
   "cell_type": "markdown",
   "metadata": {},
   "source": [
    "### 2 Forecasted Unemployment 2009-2010\n",
    "Forecasted unemployment growth rate from 2009(23.7%) to 2010(24.9). Relative change of 5.06\\%"
   ]
  },
  {
   "cell_type": "code",
   "execution_count": 36,
   "metadata": {},
   "outputs": [
    {
     "data": {
      "text/plain": [
       "0.05063291139240511"
      ]
     },
     "execution_count": 36,
     "metadata": {},
     "output_type": "execute_result"
    }
   ],
   "source": [
    "# http://southafrica.opendataforafrica.org/vwkvxbe/south-africa-unemployment-forecast-2015-2020-and-up-to-2060-data-and-charts\n",
    "(24.9  / 23.7 - 1)"
   ]
  },
  {
   "cell_type": "code",
   "execution_count": 65,
   "metadata": {},
   "outputs": [
    {
     "name": "stdout",
     "output_type": "stream",
     "text": [
      "GDP Growth at forecasted 2010 unemployment: -0.00704\n"
     ]
    }
   ],
   "source": [
    "x = np.array([1, 0.008854, 0.05063291139240511])\n",
    "forecasted_gdp = linear1.predict(x)[0]\n",
    "print('GDP Growth at forecasted 2010 unemployment: {}'.format(round(forecasted_gdp, 5)))"
   ]
  },
  {
   "cell_type": "markdown",
   "metadata": {},
   "source": [
    "Under these assumptions South Africa will enter a recession in 2010\n",
    "\n",
    "## 3. An increase in unemployment 2009-2010.\n",
    "2009 had a relative unemployment increase of 4.83%. Lets assume the same relative increase happens in 2010."
   ]
  },
  {
   "cell_type": "code",
   "execution_count": 66,
   "metadata": {},
   "outputs": [
    {
     "name": "stdout",
     "output_type": "stream",
     "text": [
      "GDP Growth at increased unemployment: -0.00677\n"
     ]
    }
   ],
   "source": [
    "x = np.array([1, 0.008854, 0.0483])\n",
    "forecasted_gdp = linear1.predict(x)[0]\n",
    "print('GDP Growth at increased unemployment: {}'.format(round(forecasted_gdp, 5)))"
   ]
  },
  {
   "cell_type": "markdown",
   "metadata": {},
   "source": [
    "Under these assumptions South Africa will enter a recession in 2010"
   ]
  },
  {
   "cell_type": "markdown",
   "metadata": {},
   "source": [
    "### Conclusion\n",
    "At these levels we recommend our investors to explore other emerging markets for sources of returns."
   ]
  }
 ],
 "metadata": {
  "kernelspec": {
   "display_name": "Python 3",
   "language": "python",
   "name": "python3"
  },
  "language_info": {
   "codemirror_mode": {
    "name": "ipython",
    "version": 3
   },
   "file_extension": ".py",
   "mimetype": "text/x-python",
   "name": "python",
   "nbconvert_exporter": "python",
   "pygments_lexer": "ipython3",
   "version": "3.6.6"
  }
 },
 "nbformat": 4,
 "nbformat_minor": 2
}
